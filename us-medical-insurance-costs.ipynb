{
 "cells": [
  {
   "cell_type": "markdown",
   "metadata": {},
   "source": [
    "# U.S. Medical Insurance Costs"
   ]
  },
  {
   "cell_type": "code",
   "execution_count": 1,
   "metadata": {},
   "outputs": [],
   "source": [
    "# import of csv file to work with data\n",
    "import csv"
   ]
  },
  {
   "cell_type": "markdown",
   "metadata": {},
   "source": [
    "# Creating variables and pulling data from CSV"
   ]
  },
  {
   "cell_type": "code",
   "execution_count": 2,
   "metadata": {},
   "outputs": [],
   "source": [
    "# variables to read data within csv file\n",
    "age = []\n",
    "sex = []\n",
    "bmi = []\n",
    "children = []\n",
    "smoker = []\n",
    "region = []\n",
    "charges = []\n",
    "\n",
    "with open('insurance.csv', newline='') as insurance_csv:\n",
    "    insurance_reader = csv.DictReader(insurance_csv)\n",
    "    for row in insurance_reader:\n",
    "        age.append(row['age'])\n",
    "        sex.append(row['sex'])\n",
    "        bmi.append(row['bmi'])\n",
    "        children.append(row['children'])\n",
    "        smoker.append(row['smoker'])\n",
    "        region.append(row['region'])\n",
    "        charges.append(row['charges'])"
   ]
  },
  {
   "cell_type": "code",
   "execution_count": 3,
   "metadata": {},
   "outputs": [
    {
     "name": "stdout",
     "output_type": "stream",
     "text": [
      "['19', '18', '28', '33', '32', '31', '46', '37', '37', '60', '25', '62', '23', '56', '27', '19', '52', '23', '56', '30', '60', '30', '18', '34', '37', '59', '63', '55', '23', '31', '22', '18', '19', '63', '28', '19', '62', '26', '35', '60', '24', '31', '41', '37', '38', '55', '18', '28', '60', '36', '18', '21', '48', '36', '40', '58', '58', '18', '53', '34', '43', '25', '64', '28', '20', '19', '61', '40', '40', '28', '27', '31', '53', '58', '44', '57', '29', '21', '22', '41', '31', '45', '22', '48', '37', '45', '57', '56', '46', '55', '21', '53', '59', '35', '64', '28', '54', '55', '56', '38', '41', '30', '18', '61', '34', '20', '19', '26', '29', '63', '54', '55', '37', '21', '52', '60', '58', '29', '49', '37', '44', '18', '20', '44', '47', '26', '19', '52', '32', '38', '59', '61', '53', '19', '20', '22', '19', '22', '54', '22', '34', '26', '34', '29', '30', '29', '46', '51', '53', '19', '35', '48', '32', '42', '40', '44', '48', '18', '30', '50', '42', '18', '54', '32', '37', '47', '20', '32', '19', '27', '63', '49', '18', '35', '24', '63', '38', '54', '46', '41', '58', '18', '22', '44', '44', '36', '26', '30', '41', '29', '61', '36', '25', '56', '18', '19', '39', '45', '51', '64', '19', '48', '60', '27', '46', '28', '59', '35', '63', '40', '20', '40', '24', '34', '45', '41', '53', '27', '26', '24', '34', '53', '32', '19', '42', '55', '28', '58', '41', '47', '42', '59', '19', '59', '39', '40', '18', '31', '19', '44', '23', '33', '55', '40', '63', '54', '60', '24', '19', '29', '18', '63', '54', '27', '50', '55', '56', '38', '51', '19', '58', '20', '52', '19', '53', '46', '40', '59', '45', '49', '18', '50', '41', '50', '25', '47', '19', '22', '59', '51', '40', '54', '30', '55', '52', '46', '46', '63', '59', '52', '28', '29', '25', '22', '25', '18', '19', '47', '31', '48', '36', '53', '56', '28', '57', '29', '28', '30', '58', '41', '50', '19', '43', '49', '27', '52', '50', '54', '44', '32', '34', '26', '34', '57', '29', '40', '27', '45', '64', '52', '61', '52', '61', '56', '43', '64', '60', '62', '50', '46', '24', '62', '60', '63', '49', '34', '33', '46', '36', '19', '57', '50', '30', '33', '18', '46', '46', '47', '23', '18', '48', '35', '19', '21', '21', '49', '56', '42', '44', '18', '61', '57', '42', '26', '20', '23', '39', '24', '64', '62', '27', '55', '55', '35', '44', '19', '58', '50', '26', '24', '48', '19', '48', '49', '46', '46', '43', '21', '64', '18', '51', '47', '64', '49', '31', '52', '33', '47', '38', '32', '19', '44', '26', '25', '19', '43', '52', '36', '64', '63', '64', '61', '40', '25', '48', '45', '38', '18', '21', '27', '19', '29', '42', '60', '31', '60', '22', '35', '52', '26', '31', '33', '18', '59', '56', '45', '60', '56', '40', '35', '39', '30', '24', '20', '32', '59', '55', '57', '56', '40', '49', '42', '62', '56', '19', '30', '60', '56', '28', '18', '27', '18', '19', '47', '54', '61', '24', '25', '21', '23', '63', '49', '18', '51', '48', '31', '54', '19', '44', '53', '19', '61', '18', '61', '21', '20', '31', '45', '44', '62', '29', '43', '51', '19', '38', '37', '22', '21', '24', '57', '56', '27', '51', '19', '39', '58', '20', '45', '35', '31', '50', '32', '51', '38', '42', '18', '19', '51', '46', '18', '57', '62', '59', '37', '64', '38', '33', '46', '46', '53', '34', '20', '63', '54', '54', '49', '28', '54', '25', '43', '63', '32', '62', '52', '25', '28', '46', '34', '35', '19', '46', '54', '27', '50', '18', '19', '38', '41', '49', '48', '31', '18', '30', '62', '57', '58', '22', '31', '52', '25', '59', '19', '39', '32', '19', '33', '21', '34', '61', '38', '58', '47', '20', '21', '41', '46', '42', '34', '43', '52', '18', '51', '56', '64', '19', '51', '27', '59', '28', '30', '47', '38', '18', '34', '20', '47', '56', '49', '19', '55', '30', '37', '49', '18', '59', '29', '36', '33', '58', '44', '53', '24', '29', '40', '51', '64', '19', '35', '39', '56', '33', '42', '61', '23', '43', '48', '39', '40', '18', '58', '49', '53', '48', '45', '59', '52', '26', '27', '48', '57', '37', '57', '32', '18', '64', '43', '49', '40', '62', '40', '30', '29', '36', '41', '44', '45', '55', '60', '56', '49', '21', '19', '39', '53', '33', '53', '42', '40', '47', '27', '21', '47', '20', '24', '27', '26', '53', '41', '56', '23', '21', '50', '53', '34', '47', '33', '51', '49', '31', '36', '18', '50', '43', '20', '24', '60', '49', '60', '51', '58', '51', '53', '62', '19', '50', '30', '41', '29', '18', '41', '35', '53', '24', '48', '59', '49', '37', '26', '23', '29', '45', '27', '53', '31', '50', '50', '34', '19', '47', '28', '37', '21', '64', '58', '24', '31', '39', '47', '30', '18', '22', '23', '33', '27', '45', '57', '47', '42', '64', '38', '61', '53', '44', '19', '41', '51', '40', '45', '35', '53', '30', '18', '51', '50', '31', '35', '60', '21', '29', '62', '39', '19', '22', '53', '39', '27', '30', '30', '58', '33', '42', '64', '21', '18', '23', '45', '40', '19', '18', '25', '46', '33', '54', '28', '36', '20', '24', '23', '47', '33', '45', '26', '18', '44', '60', '64', '56', '36', '41', '39', '63', '36', '28', '58', '36', '42', '36', '56', '35', '59', '21', '59', '23', '57', '53', '60', '51', '23', '27', '55', '37', '61', '46', '53', '49', '20', '48', '25', '25', '57', '37', '38', '55', '36', '51', '40', '18', '57', '61', '25', '50', '26', '42', '43', '44', '23', '49', '33', '41', '37', '22', '23', '21', '51', '25', '32', '57', '36', '22', '57', '64', '36', '54', '47', '62', '61', '43', '19', '18', '19', '49', '60', '26', '49', '60', '26', '27', '44', '63', '32', '22', '18', '59', '44', '33', '24', '43', '45', '61', '35', '62', '62', '38', '34', '43', '50', '19', '57', '62', '41', '26', '39', '46', '45', '32', '59', '44', '39', '18', '53', '18', '50', '18', '19', '62', '56', '42', '37', '42', '25', '57', '51', '30', '44', '34', '31', '54', '24', '43', '48', '19', '29', '63', '46', '52', '35', '51', '44', '21', '39', '50', '34', '22', '19', '26', '29', '48', '26', '45', '36', '54', '34', '31', '27', '20', '44', '43', '45', '34', '24', '26', '38', '50', '38', '27', '39', '39', '63', '33', '36', '30', '24', '24', '48', '47', '29', '28', '47', '25', '51', '48', '43', '61', '48', '38', '59', '19', '26', '54', '21', '51', '22', '47', '18', '47', '21', '19', '23', '54', '37', '46', '55', '30', '18', '61', '54', '22', '45', '22', '19', '35', '18', '20', '28', '55', '43', '43', '22', '25', '49', '44', '64', '49', '47', '27', '55', '48', '45', '24', '32', '24', '57', '59', '36', '29', '42', '48', '39', '63', '54', '37', '63', '21', '54', '60', '32', '47', '21', '28', '63', '18', '32', '38', '32', '62', '39', '55', '57', '52', '56', '47', '55', '23', '22', '50', '18', '51', '22', '52', '25', '33', '53', '29', '58', '37', '54', '49', '50', '26', '45', '54', '38', '48', '28', '23', '55', '41', '25', '33', '30', '23', '46', '53', '27', '23', '63', '55', '35', '34', '19', '39', '27', '57', '52', '28', '50', '44', '26', '33', '19', '50', '41', '52', '39', '50', '52', '60', '20', '55', '42', '18', '58', '43', '35', '48', '36', '19', '23', '20', '32', '43', '34', '30', '18', '41', '35', '57', '29', '32', '37', '18', '43', '56', '38', '29', '22', '52', '40', '23', '31', '42', '24', '25', '48', '23', '45', '20', '62', '43', '23', '31', '41', '58', '48', '31', '19', '19', '41', '40', '31', '37', '46', '22', '51', '18', '35', '59', '36', '37', '59', '36', '39', '18', '52', '27', '18', '40', '29', '46', '38', '30', '40', '50', '20', '41', '33', '38', '42', '56', '58', '52', '20', '54', '58', '45', '26', '63', '58', '37', '25', '52', '64', '22', '28', '18', '28', '45', '33', '18', '32', '24', '19', '20', '40', '34', '42', '51', '54', '55', '52', '32', '28', '41', '43', '49', '64', '55', '24', '20', '45', '26', '25', '43', '35', '26', '57', '22', '32', '39', '25', '48', '47', '18', '18', '61', '47', '28', '36', '20', '44', '38', '19', '21', '46', '58', '20', '18', '28', '33', '19', '45', '62', '25', '43', '42', '24', '29', '32', '25', '41', '42', '33', '34', '19', '30', '18', '19', '18', '35', '39', '31', '62', '62', '42', '31', '61', '42', '51', '23', '52', '57', '23', '52', '50', '18', '18', '21', '61']\n"
     ]
    }
   ],
   "source": [
    "print(age)"
   ]
  },
  {
   "cell_type": "markdown",
   "metadata": {},
   "source": [
    "# Creation of dictionary of CSV data"
   ]
  },
  {
   "cell_type": "code",
   "execution_count": 4,
   "metadata": {},
   "outputs": [],
   "source": [
    "def insurance_dict(age, sex, bmi, children, smoker, region, charges):\n",
    "    insurance_dict = {}\n",
    "    num_accounts = len(age)\n",
    "    for i in range(num_accounts):\n",
    "        insurance_dict[int(age[i])] = {\"Age\": int(age[i]),\n",
    "                                   \"Sex\": sex[i],\n",
    "                                   \"BMI\": float(bmi[i]),\n",
    "                                   \"Children\": int(children[i]),\n",
    "                                   \"Smoker\": smoker[i],\n",
    "                                   \"Region\": region[i],\n",
    "                                   \"Charges\": float(charges[i])}\n",
    "    return insurance_dict"
   ]
  },
  {
   "cell_type": "code",
   "execution_count": 5,
   "metadata": {},
   "outputs": [
    {
     "name": "stdout",
     "output_type": "stream",
     "text": [
      "{19: {'Age': 19, 'Sex': 'female', 'BMI': 20.6, 'Children': 0, 'Smoker': 'no', 'Region': 'southwest', 'Charges': 1731.677}, 18: {'Age': 18, 'Sex': 'female', 'BMI': 36.85, 'Children': 0, 'Smoker': 'no', 'Region': 'southeast', 'Charges': 1629.8335}, 28: {'Age': 28, 'Sex': 'female', 'BMI': 26.51, 'Children': 2, 'Smoker': 'no', 'Region': 'southeast', 'Charges': 4340.4409}, 33: {'Age': 33, 'Sex': 'female', 'BMI': 26.695, 'Children': 0, 'Smoker': 'no', 'Region': 'northwest', 'Charges': 4571.41305}, 32: {'Age': 32, 'Sex': 'male', 'BMI': 28.12, 'Children': 4, 'Smoker': 'yes', 'Region': 'northwest', 'Charges': 21472.4788}, 31: {'Age': 31, 'Sex': 'male', 'BMI': 25.935, 'Children': 1, 'Smoker': 'no', 'Region': 'northwest', 'Charges': 4239.89265}, 46: {'Age': 46, 'Sex': 'male', 'BMI': 25.745, 'Children': 3, 'Smoker': 'no', 'Region': 'northwest', 'Charges': 9301.89355}, 37: {'Age': 37, 'Sex': 'male', 'BMI': 22.705, 'Children': 3, 'Smoker': 'no', 'Region': 'northeast', 'Charges': 6985.50695}, 60: {'Age': 60, 'Sex': 'male', 'BMI': 32.8, 'Children': 0, 'Smoker': 'yes', 'Region': 'southwest', 'Charges': 52590.82939}, 25: {'Age': 25, 'Sex': 'female', 'BMI': 30.2, 'Children': 0, 'Smoker': 'yes', 'Region': 'southwest', 'Charges': 33900.653}, 62: {'Age': 62, 'Sex': 'male', 'BMI': 38.83, 'Children': 0, 'Smoker': 'no', 'Region': 'southeast', 'Charges': 12981.3457}, 23: {'Age': 23, 'Sex': 'female', 'BMI': 33.4, 'Children': 0, 'Smoker': 'no', 'Region': 'southwest', 'Charges': 10795.93733}, 56: {'Age': 56, 'Sex': 'male', 'BMI': 34.43, 'Children': 0, 'Smoker': 'no', 'Region': 'southeast', 'Charges': 10594.2257}, 27: {'Age': 27, 'Sex': 'female', 'BMI': 31.255, 'Children': 1, 'Smoker': 'no', 'Region': 'northwest', 'Charges': 3956.07145}, 52: {'Age': 52, 'Sex': 'female', 'BMI': 44.7, 'Children': 3, 'Smoker': 'no', 'Region': 'southwest', 'Charges': 11411.685}, 30: {'Age': 30, 'Sex': 'female', 'BMI': 23.655, 'Children': 3, 'Smoker': 'yes', 'Region': 'northwest', 'Charges': 18765.87545}, 34: {'Age': 34, 'Sex': 'male', 'BMI': 42.9, 'Children': 1, 'Smoker': 'no', 'Region': 'southwest', 'Charges': 4536.259}, 59: {'Age': 59, 'Sex': 'male', 'BMI': 37.1, 'Children': 1, 'Smoker': 'no', 'Region': 'southwest', 'Charges': 12347.172}, 63: {'Age': 63, 'Sex': 'female', 'BMI': 21.66, 'Children': 0, 'Smoker': 'no', 'Region': 'northeast', 'Charges': 14449.8544}, 55: {'Age': 55, 'Sex': 'female', 'BMI': 30.5, 'Children': 0, 'Smoker': 'no', 'Region': 'southwest', 'Charges': 10704.47}, 22: {'Age': 22, 'Sex': 'female', 'BMI': 30.4, 'Children': 0, 'Smoker': 'no', 'Region': 'northeast', 'Charges': 2741.948}, 26: {'Age': 26, 'Sex': 'male', 'BMI': 27.06, 'Children': 0, 'Smoker': 'yes', 'Region': 'southeast', 'Charges': 17043.3414}, 35: {'Age': 35, 'Sex': 'male', 'BMI': 39.71, 'Children': 4, 'Smoker': 'no', 'Region': 'northeast', 'Charges': 19496.71917}, 24: {'Age': 24, 'Sex': 'female', 'BMI': 27.72, 'Children': 0, 'Smoker': 'no', 'Region': 'southeast', 'Charges': 2464.6188}, 41: {'Age': 41, 'Sex': 'male', 'BMI': 32.2, 'Children': 2, 'Smoker': 'no', 'Region': 'southwest', 'Charges': 6875.961}, 38: {'Age': 38, 'Sex': 'female', 'BMI': 19.95, 'Children': 2, 'Smoker': 'no', 'Region': 'northeast', 'Charges': 7133.9025}, 36: {'Age': 36, 'Sex': 'female', 'BMI': 25.9, 'Children': 1, 'Smoker': 'no', 'Region': 'southwest', 'Charges': 5472.449}, 21: {'Age': 21, 'Sex': 'female', 'BMI': 25.8, 'Children': 0, 'Smoker': 'no', 'Region': 'southwest', 'Charges': 2007.945}, 48: {'Age': 48, 'Sex': 'female', 'BMI': 33.33, 'Children': 0, 'Smoker': 'no', 'Region': 'southeast', 'Charges': 8283.6807}, 40: {'Age': 40, 'Sex': 'female', 'BMI': 29.3, 'Children': 4, 'Smoker': 'no', 'Region': 'southwest', 'Charges': 15828.82173}, 58: {'Age': 58, 'Sex': 'male', 'BMI': 25.175, 'Children': 0, 'Smoker': 'no', 'Region': 'northeast', 'Charges': 11931.12525}, 53: {'Age': 53, 'Sex': 'female', 'BMI': 36.86, 'Children': 3, 'Smoker': 'yes', 'Region': 'northwest', 'Charges': 46661.4424}, 43: {'Age': 43, 'Sex': 'male', 'BMI': 27.8, 'Children': 0, 'Smoker': 'yes', 'Region': 'southwest', 'Charges': 37829.7242}, 64: {'Age': 64, 'Sex': 'male', 'BMI': 23.76, 'Children': 0, 'Smoker': 'yes', 'Region': 'southeast', 'Charges': 26926.5144}, 20: {'Age': 20, 'Sex': 'male', 'BMI': 22.0, 'Children': 1, 'Smoker': 'no', 'Region': 'southwest', 'Charges': 1964.78}, 61: {'Age': 61, 'Sex': 'female', 'BMI': 29.07, 'Children': 0, 'Smoker': 'yes', 'Region': 'northwest', 'Charges': 29141.3603}, 44: {'Age': 44, 'Sex': 'male', 'BMI': 34.32, 'Children': 1, 'Smoker': 'no', 'Region': 'southeast', 'Charges': 7147.4728}, 57: {'Age': 57, 'Sex': 'female', 'BMI': 25.74, 'Children': 2, 'Smoker': 'no', 'Region': 'southeast', 'Charges': 12629.1656}, 29: {'Age': 29, 'Sex': 'female', 'BMI': 21.85, 'Children': 0, 'Smoker': 'yes', 'Region': 'northeast', 'Charges': 16115.3045}, 45: {'Age': 45, 'Sex': 'male', 'BMI': 30.36, 'Children': 0, 'Smoker': 'yes', 'Region': 'southeast', 'Charges': 62592.87309}, 54: {'Age': 54, 'Sex': 'female', 'BMI': 27.645, 'Children': 1, 'Smoker': 'no', 'Region': 'northwest', 'Charges': 11305.93455}, 49: {'Age': 49, 'Sex': 'female', 'BMI': 33.345, 'Children': 2, 'Smoker': 'no', 'Region': 'northeast', 'Charges': 10370.91255}, 47: {'Age': 47, 'Sex': 'female', 'BMI': 24.32, 'Children': 0, 'Smoker': 'no', 'Region': 'northeast', 'Charges': 8534.6718}, 51: {'Age': 51, 'Sex': 'male', 'BMI': 30.03, 'Children': 1, 'Smoker': 'no', 'Region': 'southeast', 'Charges': 9377.9047}, 42: {'Age': 42, 'Sex': 'female', 'BMI': 32.87, 'Children': 0, 'Smoker': 'no', 'Region': 'northeast', 'Charges': 7050.0213}, 50: {'Age': 50, 'Sex': 'male', 'BMI': 30.97, 'Children': 3, 'Smoker': 'no', 'Region': 'northwest', 'Charges': 10600.5483}, 39: {'Age': 39, 'Sex': 'female', 'BMI': 26.315, 'Children': 2, 'Smoker': 'no', 'Region': 'northwest', 'Charges': 7201.70085}}\n"
     ]
    }
   ],
   "source": [
    "insurance_dict = insurance_dict(age, sex, bmi, children, smoker, region, charges)\n",
    "print(insurance_dict)"
   ]
  },
  {
   "cell_type": "markdown",
   "metadata": {},
   "source": [
    "# Count number of accounts per region"
   ]
  },
  {
   "cell_type": "code",
   "execution_count": 6,
   "metadata": {},
   "outputs": [],
   "source": [
    "def region_count(insurance_dict):\n",
    "    region_count = {}\n",
    "    for ages in insurance_dict:\n",
    "        for region in insurance_dict[ages]['Region']:\n",
    "            if region not in region_count:\n",
    "                region_count[region] = 1\n",
    "            else:\n",
    "                region_count[region] += 1\n",
    "    return region_count"
   ]
  },
  {
   "cell_type": "code",
   "execution_count": 7,
   "metadata": {},
   "outputs": [
    {
     "name": "stdout",
     "output_type": "stream",
     "text": [
      "{'s': 73, 'o': 47, 'u': 26, 't': 94, 'h': 47, 'w': 25, 'e': 47, 'a': 22, 'n': 21, 'r': 21}\n"
     ]
    }
   ],
   "source": [
    "region = region_count(insurance_dict)\n",
    "print(region)"
   ]
  },
  {
   "cell_type": "markdown",
   "metadata": {},
   "source": [
    "Count of each age group"
   ]
  },
  {
   "cell_type": "code",
   "execution_count": 8,
   "metadata": {},
   "outputs": [],
   "source": [
    "def count_age(insurance_dict):\n",
    "    age_count = {}\n",
    "    for ages in insurance_dict:\n",
    "        if ages not in age_count:\n",
    "            age_count[ages] = 1\n",
    "        else:\n",
    "            age_count[ages] += 1\n",
    "    return age_count"
   ]
  },
  {
   "cell_type": "code",
   "execution_count": 9,
   "metadata": {},
   "outputs": [
    {
     "name": "stdout",
     "output_type": "stream",
     "text": [
      "{19: 1, 18: 1, 28: 1, 33: 1, 32: 1, 31: 1, 46: 1, 37: 1, 60: 1, 25: 1, 62: 1, 23: 1, 56: 1, 27: 1, 52: 1, 30: 1, 34: 1, 59: 1, 63: 1, 55: 1, 22: 1, 26: 1, 35: 1, 24: 1, 41: 1, 38: 1, 36: 1, 21: 1, 48: 1, 40: 1, 58: 1, 53: 1, 43: 1, 64: 1, 20: 1, 61: 1, 44: 1, 57: 1, 29: 1, 45: 1, 54: 1, 49: 1, 47: 1, 51: 1, 42: 1, 50: 1, 39: 1}\n"
     ]
    }
   ],
   "source": [
    "age_count = count_age(insurance_dict)\n",
    "print(age_count)"
   ]
  },
  {
   "cell_type": "markdown",
   "metadata": {},
   "source": [
    "Average Cost"
   ]
  },
  {
   "cell_type": "code",
   "execution_count": 10,
   "metadata": {},
   "outputs": [],
   "source": [
    "def average_cost(charges):\n",
    "    total_charges = 0\n",
    "    charge_count = len(charges)\n",
    "    for charge in charges:\n",
    "        total_charges += float(charge)\n",
    "    average = total_charges // charge_count\n",
    "    return average"
   ]
  },
  {
   "cell_type": "code",
   "execution_count": 11,
   "metadata": {},
   "outputs": [
    {
     "name": "stdout",
     "output_type": "stream",
     "text": [
      "Average cost of insurance: 13270.0\n"
     ]
    }
   ],
   "source": [
    "cost_average = average_cost(charges)\n",
    "print(f\"Average cost of insurance: {cost_average}\")"
   ]
  },
  {
   "cell_type": "markdown",
   "metadata": {},
   "source": [
    "Gender Count"
   ]
  },
  {
   "cell_type": "code",
   "execution_count": 12,
   "metadata": {},
   "outputs": [],
   "source": [
    "def gender_count(sex):\n",
    "    male_count = 0\n",
    "    female_count = 0\n",
    "    for item in sex:\n",
    "        if item.lower() == 'male':\n",
    "            male_count += 1\n",
    "        else:\n",
    "            female_count += 1\n",
    "    return male_count, female_count"
   ]
  },
  {
   "cell_type": "code",
   "execution_count": 13,
   "metadata": {},
   "outputs": [
    {
     "name": "stdout",
     "output_type": "stream",
     "text": [
      "The total amount of males: 676\n",
      "The total amount of females: 662\n"
     ]
    }
   ],
   "source": [
    "male, female = gender_count(sex)\n",
    "print(f\"The total amount of males: {male}\")\n",
    "print(f\"The total amount of females: {female}\")"
   ]
  },
  {
   "cell_type": "code",
   "execution_count": 16,
   "metadata": {},
   "outputs": [],
   "source": [
    "def average_cost_by_gender(male_count, female_count, insurance_dict):\n",
    "    male_cost = 0\n",
    "    female_cost = 0\n",
    "    for age in insurance_dict:\n",
    "        for gender in insurance_dict[age]['Sex']:\n",
    "            if gender == 'male':\n",
    "                male_cost += insurance_dict[age]['Charge']\n",
    "            else:\n",
    "                female_cost += insurance_dict[age]['Charge']\n",
    "    average_male = male_cost // male_count\n",
    "    average_female = female_cost // female_count\n",
    "    \n",
    "    return average_male, average_female "
   ]
  },
  {
   "cell_type": "code",
   "execution_count": 17,
   "metadata": {},
   "outputs": [
    {
     "ename": "KeyError",
     "evalue": "'Charge'",
     "output_type": "error",
     "traceback": [
      "\u001b[1;31m---------------------------------------------------------------------------\u001b[0m",
      "\u001b[1;31mKeyError\u001b[0m                                  Traceback (most recent call last)",
      "\u001b[1;32m<ipython-input-17-024b00e6dfaa>\u001b[0m in \u001b[0;36m<module>\u001b[1;34m\u001b[0m\n\u001b[1;32m----> 1\u001b[1;33m \u001b[0maverage_male\u001b[0m\u001b[1;33m,\u001b[0m \u001b[0maverage_female\u001b[0m \u001b[1;33m=\u001b[0m \u001b[0maverage_cost_by_gender\u001b[0m\u001b[1;33m(\u001b[0m\u001b[0mmale\u001b[0m\u001b[1;33m,\u001b[0m \u001b[0mfemale\u001b[0m\u001b[1;33m,\u001b[0m \u001b[0minsurance_dict\u001b[0m\u001b[1;33m)\u001b[0m\u001b[1;33m\u001b[0m\u001b[1;33m\u001b[0m\u001b[0m\n\u001b[0m\u001b[0;32m      2\u001b[0m \u001b[0mprint\u001b[0m\u001b[1;33m(\u001b[0m\u001b[1;34mf\"The average cost for males: {average_male}\"\u001b[0m\u001b[1;33m)\u001b[0m\u001b[1;33m\u001b[0m\u001b[1;33m\u001b[0m\u001b[0m\n\u001b[0;32m      3\u001b[0m \u001b[0mprint\u001b[0m\u001b[1;33m(\u001b[0m\u001b[1;34mf\"The average cost for females: {average_female}\"\u001b[0m\u001b[1;33m)\u001b[0m\u001b[1;33m\u001b[0m\u001b[1;33m\u001b[0m\u001b[0m\n",
      "\u001b[1;32m<ipython-input-16-78e5e62a8c34>\u001b[0m in \u001b[0;36maverage_cost_by_gender\u001b[1;34m(male_count, female_count, insurance_dict)\u001b[0m\n\u001b[0;32m      7\u001b[0m                 \u001b[0mmale_cost\u001b[0m \u001b[1;33m+=\u001b[0m \u001b[0minsurance_dict\u001b[0m\u001b[1;33m[\u001b[0m\u001b[0mage\u001b[0m\u001b[1;33m]\u001b[0m\u001b[1;33m[\u001b[0m\u001b[1;34m'Charge'\u001b[0m\u001b[1;33m]\u001b[0m\u001b[1;33m\u001b[0m\u001b[1;33m\u001b[0m\u001b[0m\n\u001b[0;32m      8\u001b[0m             \u001b[1;32melse\u001b[0m\u001b[1;33m:\u001b[0m\u001b[1;33m\u001b[0m\u001b[1;33m\u001b[0m\u001b[0m\n\u001b[1;32m----> 9\u001b[1;33m                 \u001b[0mfemale_cost\u001b[0m \u001b[1;33m+=\u001b[0m \u001b[0minsurance_dict\u001b[0m\u001b[1;33m[\u001b[0m\u001b[0mage\u001b[0m\u001b[1;33m]\u001b[0m\u001b[1;33m[\u001b[0m\u001b[1;34m'Charge'\u001b[0m\u001b[1;33m]\u001b[0m\u001b[1;33m\u001b[0m\u001b[1;33m\u001b[0m\u001b[0m\n\u001b[0m\u001b[0;32m     10\u001b[0m     \u001b[0maverage_male\u001b[0m \u001b[1;33m=\u001b[0m \u001b[0mmale_cost\u001b[0m \u001b[1;33m//\u001b[0m \u001b[0mmale_count\u001b[0m\u001b[1;33m\u001b[0m\u001b[1;33m\u001b[0m\u001b[0m\n\u001b[0;32m     11\u001b[0m     \u001b[0maverage_female\u001b[0m \u001b[1;33m=\u001b[0m \u001b[0mfemale_cost\u001b[0m \u001b[1;33m//\u001b[0m \u001b[0mfemale_count\u001b[0m\u001b[1;33m\u001b[0m\u001b[1;33m\u001b[0m\u001b[0m\n",
      "\u001b[1;31mKeyError\u001b[0m: 'Charge'"
     ]
    }
   ],
   "source": [
    "average_male, average_female = average_cost_by_gender(male, female, insurance_dict)\n",
    "print(f\"The average cost for males: {average_male}\")\n",
    "print(f\"The average cost for females: {average_female}\")"
   ]
  },
  {
   "cell_type": "code",
   "execution_count": null,
   "metadata": {},
   "outputs": [],
   "source": []
  }
 ],
 "metadata": {
  "kernelspec": {
   "display_name": "Python 3",
   "language": "python",
   "name": "python3"
  },
  "language_info": {
   "codemirror_mode": {
    "name": "ipython",
    "version": 3
   },
   "file_extension": ".py",
   "mimetype": "text/x-python",
   "name": "python",
   "nbconvert_exporter": "python",
   "pygments_lexer": "ipython3",
   "version": "3.8.6"
  }
 },
 "nbformat": 4,
 "nbformat_minor": 4
}
